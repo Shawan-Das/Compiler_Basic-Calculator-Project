{
  "nbformat": 4,
  "nbformat_minor": 0,
  "metadata": {
    "colab": {
      "provenance": []
    },
    "kernelspec": {
      "name": "python3",
      "display_name": "Python 3"
    },
    "language_info": {
      "name": "python"
    }
  },
  "cells": [
    {
      "cell_type": "markdown",
      "source": [
        "### Operation List"
      ],
      "metadata": {
        "id": "Z_1Bsfg0lgPX"
      }
    },
    {
      "cell_type": "code",
      "execution_count": 1,
      "metadata": {
        "id": "NzKgvx0blcGF"
      },
      "outputs": [],
      "source": [
        "import math\n",
        "import re\n",
        "operation=['+','-','*','/','sqrt']\n",
        "priority=['(',')']\n",
        "numbers=['.','0','1','2','3','4','5','6','7','8','9']"
      ]
    },
    {
      "cell_type": "markdown",
      "source": [
        "### Arithmatic Operation"
      ],
      "metadata": {
        "id": "mcxA3O_xYACr"
      }
    },
    {
      "cell_type": "markdown",
      "source": [
        "#### Basic operation"
      ],
      "metadata": {
        "id": "wMrM_6vc-dlo"
      }
    },
    {
      "cell_type": "code",
      "source": [
        "def operate(data):\n",
        "  if len(data)==1:\n",
        "    return data[0]\n",
        "  \n",
        "  ### Root Operation\n",
        "  while('sqrt' in data):    #Checking of Root operation and validation\n",
        "    temp_data=[]\n",
        "    i=0\n",
        "    while(i<len(data)):\n",
        "      if data[i]=='sqrt':\n",
        "        try:\n",
        "          temp_data.append(math.sqrt(data[i+1]))\n",
        "          i+=2\n",
        "        except:                ### Negative Root operation\n",
        "          print(\"sqrt ERROR\")\n",
        "          return 'Math Error'\n",
        "      else:\n",
        "        temp_data.append(data[i])\n",
        "        i+=1\n",
        "    data=temp_data\n",
        "    #print(data)\n",
        "  ### Multiplication operation:\n",
        "  while('*' in data or '/' in data):\n",
        "    temp_data=[]\n",
        "    for i in range(len(data)):   ### Single operation and rechek for Multi and Div\n",
        "      if data[i]=='*':\n",
        "        temp_data.pop()\n",
        "        temp_data.append(data[i-1]*data[i+1])       ###Multiplication\n",
        "        i+=1\n",
        "        break\n",
        "      elif data[i]=='/':\n",
        "        temp_data.pop()\n",
        "        temp_data.append(data[i-1]/data[i+1])      ### Division\n",
        "        i+=1\n",
        "        break\n",
        "      else:\n",
        "        temp_data.append(data[i])\n",
        "    data=temp_data+ data[i+1: ]          ### update main data after iteration\n",
        "    #print(data)\n",
        "  ### Addition / Subtraction\n",
        "  sum=0\n",
        "  temp=[]\n",
        "  i=0\n",
        "  while(i<len(data)):\n",
        "    if data[i]=='-':\n",
        "      temp.append(-1*data[i+1])\n",
        "      i+=2\n",
        "    elif data[i]=='+':\n",
        "      temp.append(data[i+1])\n",
        "      i+=2\n",
        "    else:\n",
        "      temp.append(data[i])\n",
        "      i+=1\n",
        "  data=temp\n",
        "  #print(\"Check: \",data)\n",
        "  for i in data:\n",
        "    sum+=i\n",
        "  return sum"
      ],
      "metadata": {
        "id": "wOmwyKeSmNdN"
      },
      "execution_count": 24,
      "outputs": []
    },
    {
      "cell_type": "markdown",
      "source": [
        "#### Bracket Handle"
      ],
      "metadata": {
        "id": "ZeJxro5S-h1J"
      }
    },
    {
      "cell_type": "code",
      "source": [
        "def manage_bracket(dt):\n",
        "  while ('(' in dt):    ### Brackets are in data\n",
        "    cap=0             ## Check for Active parenthesis\n",
        "    temp=[]           ## Temporary data to store\n",
        "    stack=[]         ## Store '( )' data\n",
        "    for i in dt:\n",
        "      if i=='(' and cap==1: #Create new stack and insert previous stack to temp\n",
        "        temp=temp+stack\n",
        "        stack=[]\n",
        "        stack.append(i)   # New Stack\n",
        "      # print('1')\n",
        "      elif i=='(' and cap==0: #No previous Stack, Create new\n",
        "        stack.append(i)\n",
        "        cap=1\n",
        "        #print('2')\n",
        "      elif i==')' and cap==1: #Stack= Active, stop Stacking\n",
        "        cap=0\n",
        "        stack.pop(0)        # Remove '(' from stack\n",
        "        print('operate: ',stack)\n",
        "        temp.append(operate(stack)) # stack operation and replce main data\n",
        "        stack=[]           # empty Stack\n",
        "        #print('3')\n",
        "      elif cap==0 and i!='(':  # Stack= inactive, normal insert data to temp\n",
        "        temp.append(i)\n",
        "      # print('4')\n",
        "      elif cap==1:      #Stack=Active, Insert data to Stack\n",
        "        stack.append(i) \n",
        "        #print('5')\n",
        "      elif cap==0 and i==')':  #Stack= Inactive, ')'- direct insert\n",
        "        temp.append(i)\n",
        "    dt=temp # replace main data with temp data and check for more '(' ')'\n",
        "    print('Updated Stack: ',dt)\n",
        "  return operate(dt) ## all bracket removed, Simple operation"
      ],
      "metadata": {
        "id": "1OoK8OkA-l0Y"
      },
      "execution_count": 3,
      "outputs": []
    },
    {
      "cell_type": "markdown",
      "source": [
        "### Clean & Check Data"
      ],
      "metadata": {
        "id": "VAzuWcQSYFzr"
      }
    },
    {
      "cell_type": "markdown",
      "source": [
        "##### Error check"
      ],
      "metadata": {
        "id": "UaLbLPAaY3cs"
      }
    },
    {
      "cell_type": "code",
      "source": [
        "def error_check(check):\n",
        "\n",
        "  ### Bracket Error\n",
        "  flag=0\n",
        "  for i in check:    ## Checking of missing Patenthesis\n",
        "    if i=='(':\n",
        "      flag+=1\n",
        "    if i==')':\n",
        "      flag-=1       \n",
        "    if flag<0:     # ')' came before '('\n",
        "      return \"Incorrect Formation\"\n",
        "  if flag!=0:      # incorremt brackets\n",
        "    return 'incomplete ( or )'\n",
        "  \n",
        "  ### invalid Operation\n",
        "  if check[0]=='+' or check[0]=='*' or check[0]=='/':\n",
        "    return \"Invalid Operation | Equation can't start with +,/,*\"\n",
        "\n",
        "  ### Unwanted operation\n",
        "  if check[-1] in operation:\n",
        "    return \"Invalid Operation | Equation can't end with any operant\"\n",
        "  ### SQRT operation Check:\n",
        "  for i in range(len(check)):\n",
        "    if check[i]=='sqrt' and check[i+2]=='-':  # Negative sqrt\n",
        "      return \"Negative Square Root Error\"\n",
        "    if check[i]=='sqrt' and check[i+1]!='(':\n",
        "      return \"Undefined sqrt, Suggetion: sqrt(equation)\"  # Missing of sqrt parenthesis\n",
        "  #print(check)\n",
        "  ### Arithmetic operation check\n",
        "  for i in range(len(check)):\n",
        "    if check[i] in operation[:4] and check[i+1] in operation[:4]:  # Operational Error\n",
        "      return \"Syntax Error \"\n",
        "  print(check)\n",
        "  return manage_bracket(check) ### good to go for operation "
      ],
      "metadata": {
        "id": "dfjPOs9dZO1r"
      },
      "execution_count": 14,
      "outputs": []
    },
    {
      "cell_type": "markdown",
      "source": [
        "#####Clean Data"
      ],
      "metadata": {
        "id": "8FCvFPgIYLBE"
      }
    },
    {
      "cell_type": "code",
      "source": [
        "def clean_data(value):\n",
        "  ### Remove Extra Spaces\n",
        "  value = re.sub('sqrt', '$',value, flags=re.IGNORECASE)\n",
        "  val=''\n",
        "  for i in value:\n",
        "    if i!=' ':\n",
        "      val+=i\n",
        "  value=val\n",
        "\n",
        "  ### Create list of data\n",
        "  string=''\n",
        "  temp=[]\n",
        "  stack=[]\n",
        "  for i in value:\n",
        "    if (i in operation or i in priority) and string!='': ## Manage multi digit numbers\n",
        "      if '.' in string:\n",
        "        temp.append(float(string))    ## Floating Numbers\n",
        "        string=''\n",
        "      else:\n",
        "        temp.append(int(string))     ## Intiger Numbers\n",
        "        string=''\n",
        "      temp.append(i)\n",
        "    elif i in numbers:\n",
        "      string+=i\n",
        "    elif i=='$':\n",
        "      temp.append('sqrt')\n",
        "    else:\n",
        "      temp.append(i)\n",
        "  \n",
        "  if string !='':          ### insert remaining data\n",
        "    if '.' in string:\n",
        "      temp.append(float(string))\n",
        "    else:\n",
        "      temp.append(int(string))\n",
        "  stack=temp\n",
        "  ### Manage \"no operation\" error betwen ')' and '('\n",
        "  temp_data=[]\n",
        "  for i in range(len(stack)-1):\n",
        "    if stack[i]=='(' and stack[i-1] not in operation and stack[i-1]!='(':\n",
        "      temp_data.append('*')\n",
        "      temp_data.append(stack[i])\n",
        "    elif i!=0 and stack[i-1]==')' and stack[i] not in operation and stack[i] != ')':\n",
        "      temp_data.append('*')\n",
        "      temp_data.append(stack[i])\n",
        "    elif stack[i]==')' and stack[i+1]=='(':\n",
        "      temp_data.append(stack[i])\n",
        "      temp_data.append('*')\n",
        "    else:\n",
        "      temp_data.append(stack[i])\n",
        "  temp_data.append(stack[-1])\n",
        "  stack=temp_data\n",
        "  return error_check(stack)"
      ],
      "metadata": {
        "id": "zKuMk2AaW5nj"
      },
      "execution_count": 34,
      "outputs": []
    },
    {
      "cell_type": "markdown",
      "source": [
        "##Calculator"
      ],
      "metadata": {
        "id": "4VYbUN-dLTey"
      }
    },
    {
      "cell_type": "markdown",
      "source": [
        "Test-1"
      ],
      "metadata": {
        "id": "b_SInMrR0_-f"
      }
    },
    {
      "cell_type": "code",
      "source": [
        "equation = '-2.5+( 2 * 10 / 5 + ( sqrt(20+16) / (3*2) + 10)* 2 * 3 / 6)'\n",
        "ans=clean_data(equation)\n",
        "print(\"= \",ans)"
      ],
      "metadata": {
        "colab": {
          "base_uri": "https://localhost:8080/"
        },
        "id": "wH_97yGAXt1z",
        "outputId": "f1462ab9-1efc-4774-b6e6-c910eecdee1e"
      },
      "execution_count": 28,
      "outputs": [
        {
          "output_type": "stream",
          "name": "stdout",
          "text": [
            "['-', 2.5, '+', '(', 2, '*', 10, '/', 5, '+', '(', 'sqrt', '(', 20, '+', 16, ')', '/', '(', 3, '*', 2, ')', '+', 10, ')', '*', 2, '*', 3, '/', 6, ')']\n",
            "operate:  [20, '+', 16]\n",
            "operate:  [3, '*', 2]\n",
            "Updated Stack:  ['-', 2.5, '+', '(', 2, '*', 10, '/', 5, '+', '(', 'sqrt', 36, '/', 6, '+', 10, ')', '*', 2, '*', 3, '/', 6, ')']\n",
            "operate:  ['sqrt', 36, '/', 6, '+', 10]\n",
            "Updated Stack:  ['-', 2.5, '+', '(', 2, '*', 10, '/', 5, '+', 11.0, '*', 2, '*', 3, '/', 6, ')']\n",
            "operate:  [2, '*', 10, '/', 5, '+', 11.0, '*', 2, '*', 3, '/', 6]\n",
            "Updated Stack:  ['-', 2.5, '+', 15.0]\n",
            "=  12.5\n"
          ]
        }
      ]
    },
    {
      "cell_type": "markdown",
      "source": [
        "Test-2"
      ],
      "metadata": {
        "id": "lU-bTAtf1C8d"
      }
    },
    {
      "cell_type": "code",
      "source": [
        "equation = '18* 32 - 69 * 13 /5 - (8+9/2)'\n",
        "ans=clean_data(equation)\n",
        "print(\"= \",ans)"
      ],
      "metadata": {
        "colab": {
          "base_uri": "https://localhost:8080/"
        },
        "id": "EGrLOONk1Fo-",
        "outputId": "b1c4cda0-f643-438b-b83e-984632106e8a"
      },
      "execution_count": 29,
      "outputs": [
        {
          "output_type": "stream",
          "name": "stdout",
          "text": [
            "[18, '*', 32, '-', 69, '*', 13, '/', 5, '-', '(', 8, '+', 9, '/', 2, ')']\n",
            "operate:  [8, '+', 9, '/', 2]\n",
            "Updated Stack:  [18, '*', 32, '-', 69, '*', 13, '/', 5, '-', 12.5]\n",
            "=  384.1\n"
          ]
        }
      ]
    },
    {
      "cell_type": "markdown",
      "source": [
        "Test-3"
      ],
      "metadata": {
        "id": "hnfERvsA2Hcf"
      }
    },
    {
      "cell_type": "code",
      "source": [
        "equation = '18* 32 - 69 * 13 /5 - 2(8+9/2)'\n",
        "ans=clean_data(equation)\n",
        "print(\"= \",ans)"
      ],
      "metadata": {
        "colab": {
          "base_uri": "https://localhost:8080/"
        },
        "id": "TuDcyofb2I7G",
        "outputId": "11099e70-a0b6-4fbe-a6ac-89cad5cbe2ff"
      },
      "execution_count": 30,
      "outputs": [
        {
          "output_type": "stream",
          "name": "stdout",
          "text": [
            "[18, '*', 32, '-', 69, '*', 13, '/', 5, '-', 2, '*', '(', 8, '+', 9, '/', 2, ')']\n",
            "operate:  [8, '+', 9, '/', 2]\n",
            "Updated Stack:  [18, '*', 32, '-', 69, '*', 13, '/', 5, '-', 2, '*', 12.5]\n",
            "=  371.6\n"
          ]
        }
      ]
    },
    {
      "cell_type": "markdown",
      "source": [
        "Test-4"
      ],
      "metadata": {
        "id": "iRiwshI4-BUl"
      }
    },
    {
      "cell_type": "code",
      "source": [
        "equation = '2(5+5)3+3'\n",
        "ans=clean_data(equation)\n",
        "print(\"= \",ans)"
      ],
      "metadata": {
        "colab": {
          "base_uri": "https://localhost:8080/"
        },
        "id": "Hhw2BxEs-D52",
        "outputId": "6c8d50f6-2f46-4616-cd33-168b0e3898e9"
      },
      "execution_count": 31,
      "outputs": [
        {
          "output_type": "stream",
          "name": "stdout",
          "text": [
            "[2, '*', '(', 5, '+', 5, ')', '*', 3, '+', 3]\n",
            "operate:  [5, '+', 5]\n",
            "Updated Stack:  [2, '*', 10, '*', 3, '+', 3]\n",
            "=  63\n"
          ]
        }
      ]
    },
    {
      "cell_type": "markdown",
      "source": [
        "Test-5"
      ],
      "metadata": {
        "id": "SAY-DYNg_AFm"
      }
    },
    {
      "cell_type": "code",
      "source": [
        "equation = '22(3-3/(sqrt(55)*(3*10(5-6(7+2)))))'\n",
        "ans=clean_data(equation)\n",
        "print(\"= \",ans)"
      ],
      "metadata": {
        "colab": {
          "base_uri": "https://localhost:8080/"
        },
        "id": "RgZEL0s7_Bxq",
        "outputId": "dff316f1-5eb5-40c9-ad20-32f9d31f2a98"
      },
      "execution_count": 35,
      "outputs": [
        {
          "output_type": "stream",
          "name": "stdout",
          "text": [
            "[22, '*', '(', 3, '-', 3, '/', '(', 'sqrt', '(', 55, ')', '*', '(', 3, '*', 10, '*', '(', 5, '-', 6, '*', '(', 7, '+', 2, ')', ')', ')', ')', ')']\n",
            "operate:  [55]\n",
            "operate:  [7, '+', 2]\n",
            "Updated Stack:  [22, '*', '(', 3, '-', 3, '/', '(', 'sqrt', 55, '*', '(', 3, '*', 10, '*', '(', 5, '-', 6, '*', 9, ')', ')', ')', ')']\n",
            "operate:  [5, '-', 6, '*', 9]\n",
            "Updated Stack:  [22, '*', '(', 3, '-', 3, '/', '(', 'sqrt', 55, '*', '(', 3, '*', 10, '*', -49, ')', ')', ')']\n",
            "operate:  [3, '*', 10, '*', -49]\n",
            "Updated Stack:  [22, '*', '(', 3, '-', 3, '/', '(', 'sqrt', 55, '*', -1470, ')', ')']\n",
            "operate:  ['sqrt', 55, '*', -1470]\n",
            "Updated Stack:  [22, '*', '(', 3, '-', 3, '/', -10901.811776030625, ')']\n",
            "operate:  [3, '-', 3, '/', -10901.811776030625]\n",
            "Updated Stack:  [22, '*', 3.000275183617332]\n",
            "=  66.0060540395813\n"
          ]
        }
      ]
    },
    {
      "cell_type": "markdown",
      "source": [
        "Test-6"
      ],
      "metadata": {
        "id": "aFQ8mH74A30Y"
      }
    },
    {
      "cell_type": "code",
      "source": [
        "equation = '18* 32 - 69 * 13 /5 - 2(8+9/2))'\n",
        "ans=clean_data(equation)\n",
        "print(\"= \",ans)"
      ],
      "metadata": {
        "colab": {
          "base_uri": "https://localhost:8080/"
        },
        "id": "m2LNPlDqA6vr",
        "outputId": "b1647d26-7240-4ddc-d4b8-8eb80673a490"
      },
      "execution_count": 36,
      "outputs": [
        {
          "output_type": "stream",
          "name": "stdout",
          "text": [
            "=  Incorrect Formation\n"
          ]
        }
      ]
    },
    {
      "cell_type": "code",
      "source": [
        "equation = 'sqrt(3-5)'\n",
        "ans=clean_data(equation)\n",
        "print(\"= \",ans)"
      ],
      "metadata": {
        "colab": {
          "base_uri": "https://localhost:8080/"
        },
        "id": "PAw_HlV9BCrI",
        "outputId": "9962925d-c61e-4623-d4ef-6b7642598450"
      },
      "execution_count": 37,
      "outputs": [
        {
          "output_type": "stream",
          "name": "stdout",
          "text": [
            "['sqrt', '(', 3, '-', 5, ')']\n",
            "operate:  [3, '-', 5]\n",
            "Updated Stack:  ['sqrt', -2]\n",
            "sqrt ERROR\n",
            "=  Math Error\n"
          ]
        }
      ]
    }
  ]
}